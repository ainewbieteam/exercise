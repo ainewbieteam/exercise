{
  "nbformat": 4,
  "nbformat_minor": 0,
  "metadata": {
    "colab": {
      "name": "demo_stock",
      "version": "0.3.2",
      "provenance": [],
      "collapsed_sections": []
    },
    "kernelspec": {
      "name": "python3",
      "display_name": "Python 3"
    }
  },
  "cells": [
    {
      "cell_type": "code",
      "metadata": {
        "id": "lnM_a9fsprF8",
        "colab_type": "code",
        "outputId": "bc3f24bc-27cc-45b4-8caf-efecf780b8d7",
        "colab": {
          "base_uri": "https://localhost:8080/",
          "height": 425
        }
      },
      "source": [
        "import requests #Load連接上網的工具\n",
        "from bs4 import BeautifulSoup #Load提取訊息的工具\n",
        "\n",
        "#首先，連接上網，收取數據\n",
        "result = requests.get(\"http://www.etnet.com.hk/www/tc/stocks/realtime/quote.php?code=00001\")\n",
        "c = result.content\n",
        "soup = BeautifulSoup(c, \"html.parser\")\n",
        "\n",
        "#提取異動股的資訊\n",
        "abnormal_stocks = soup.find(\"div\", class_=\"DivTemplateAContent\") \n",
        "\n",
        "#顯示結果\n",
        "print(abnormal_stocks.prettify()) "
      ],
      "execution_count": 0,
      "outputs": [
        {
          "output_type": "stream",
          "text": [
            "<div class=\"DivTemplateAContent\" style=\"width:580px; padding-top:2px; font-weight:bold;\">\n",
            " <a href=\"http://www.etnet.com.hk/www/tc/stocks/realtime/quote.php?code=268\" style=\"display:inline-block;\">\n",
            "  金蝶(268)\n",
            " </a>\n",
            " <a href=\"http://www.etnet.com.hk/www/tc/stocks/realtime/quote.php?code=700\" style=\"display:inline-block;\">\n",
            "  騰訊(700)\n",
            " </a>\n",
            " <a href=\"http://www.etnet.com.hk/www/tc/stocks/realtime/quote.php?code=6055\" style=\"display:inline-block;\">\n",
            "  中煙(6055)\n",
            " </a>\n",
            " <a href=\"http://www.etnet.com.hk/www/tc/stocks/realtime/quote.php?code=175\" style=\"display:inline-block;\">\n",
            "  吉利(175)\n",
            " </a>\n",
            " <a href=\"http://www.etnet.com.hk/www/tc/stocks/realtime/quote.php?code=6117\" style=\"display:inline-block;\">\n",
            "  日照港裕廊(6117)\n",
            " </a>\n",
            " <a href=\"http://www.etnet.com.hk/www/tc/stocks/realtime/quote.php?code=2628\" style=\"display:inline-block;\">\n",
            "  國壽(2628)\n",
            " </a>\n",
            " <a href=\"http://www.etnet.com.hk/www/tc/stocks/sector_hot.php\" style=\"display:inline-block;\">\n",
            "  內險/金\n",
            " </a>\n",
            "</div>\n",
            "\n"
          ],
          "name": "stdout"
        }
      ]
    }
  ]
}